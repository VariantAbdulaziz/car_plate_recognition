{
 "cells": [
  {
   "attachments": {},
   "cell_type": "markdown",
   "metadata": {},
   "source": [
    "## A script to populate the list of files in a specific class given that they're in a seperate file"
   ]
  },
  {
   "cell_type": "code",
   "execution_count": 1,
   "metadata": {},
   "outputs": [],
   "source": [
    "from pathlib import Path\n",
    "\n",
    "def populate(path, train_images, labels, label):\n",
    "    directory = Path(path)\n",
    "    # Loop through all files in the directory\n",
    "    i = 0\n",
    "    for file in directory.glob(\"*.jpg\"):\n",
    "        train_images.append(path + \"/\" + file.name)\n",
    "        labels.append(label)\n",
    "        i += 1"
   ]
  },
  {
   "attachments": {},
   "cell_type": "markdown",
   "metadata": {},
   "source": [
    "## populating our training lists"
   ]
  },
  {
   "cell_type": "code",
   "execution_count": 2,
   "metadata": {},
   "outputs": [],
   "source": [
    "PLATE = 1\n",
    "NO_PLATE = 0\n",
    "\n",
    "train_images = []\n",
    "train_labels = []\n",
    "\n",
    "populate(\"plate\", train_images, train_labels, PLATE)\n",
    "populate(\"no-plate\", train_images, train_labels, NO_PLATE)"
   ]
  },
  {
   "cell_type": "code",
   "execution_count": 3,
   "metadata": {},
   "outputs": [],
   "source": [
    "import cv2\n",
    "from skimage.feature import hog\n",
    "\n",
    "hog_features = []\n",
    "for img_path in train_images:\n",
    "    img = cv2.imread(img_path)\n",
    "    gray = cv2.cvtColor(img, cv2.COLOR_BGR2GRAY)\n",
    "    gray = cv2.resize(gray, None, fx=0.5, fy=0.5)\n",
    "    features = hog(gray, orientations=9, pixels_per_cell=(8, 8),\n",
    "                   cells_per_block=(2, 2), block_norm='L2-Hys',\n",
    "                   transform_sqrt=True, feature_vector=True)\n",
    "    hog_features.append(features)"
   ]
  },
  {
   "attachments": {},
   "cell_type": "markdown",
   "metadata": {},
   "source": [
    "## train the model and check accuracy"
   ]
  },
  {
   "cell_type": "code",
   "execution_count": 4,
   "metadata": {},
   "outputs": [
    {
     "name": "stdout",
     "output_type": "stream",
     "text": [
      "Accuracy: 0.8928571428571429\n"
     ]
    }
   ],
   "source": [
    "from sklearn.model_selection import train_test_split\n",
    "from sklearn import svm\n",
    "\n",
    "# Split dataset into training and testing sets\n",
    "X_train, X_test, y_train, y_test = train_test_split(hog_features, train_labels, test_size=0.2, random_state=42)\n",
    "\n",
    "# Train the SVM model on the training set\n",
    "svm_model = svm.SVC(kernel='linear')\n",
    "svm_model.fit(X_train, y_train)\n",
    "\n",
    "# Evaluate the SVM model on the testing set\n",
    "accuracy = svm_model.score(X_test, y_test)\n",
    "print(\"Accuracy:\", accuracy)\n"
   ]
  }
 ],
 "metadata": {
  "kernelspec": {
   "display_name": "ml",
   "language": "python",
   "name": "python3"
  },
  "language_info": {
   "codemirror_mode": {
    "name": "ipython",
    "version": 3
   },
   "file_extension": ".py",
   "mimetype": "text/x-python",
   "name": "python",
   "nbconvert_exporter": "python",
   "pygments_lexer": "ipython3",
   "version": "3.10.6"
  },
  "orig_nbformat": 4,
  "vscode": {
   "interpreter": {
    "hash": "35b8fc2ea48d058997f2011e21b8bdcbf2b0f588bb7fbbf519f4835bee2ae208"
   }
  }
 },
 "nbformat": 4,
 "nbformat_minor": 2
}
